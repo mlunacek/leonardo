{
 "cells": [
  {
   "cell_type": "code",
   "execution_count": 1,
   "metadata": {},
   "outputs": [],
   "source": [
    "import pandas as pd\n",
    "import lxml.html as lh\n",
    "import requests\n",
    "import time\n",
    "import os\n",
    "import igc_validation"
   ]
  },
  {
   "cell_type": "code",
   "execution_count": 92,
   "metadata": {},
   "outputs": [],
   "source": [
    "def download_flight(flight_number):\n",
    "    \n",
    "    filename = \"flights/flight_{}.igc\".format(flight_number)\n",
    "    print(filename)\n",
    "    \n",
    "    headers = {'User-Agent': 'Mozilla/5.0'}\n",
    "\n",
    "    payload = {'type':'igc',\n",
    "               'flightID': str(flight_number),\n",
    "               'file': '',\n",
    "               'captchaStr': '',\n",
    "               'captcha': '',\n",
    "              }\n",
    "\n",
    "    session = requests.Session()\n",
    "    res = session.post('http://xc.rmhpa.org/download_igc.php', headers=headers, data=payload)\n",
    "\n",
    "\n",
    "    with open(filename, 'wb') as outfile:\n",
    "        outfile.write(res.content)\n",
    "     \n",
    "    \n",
    "    logbook = []\n",
    "    logbook.append({'igcfile': os.path.abspath(filename)})\n",
    "    try:\n",
    "        for flight in logbook:\n",
    "            flight = igc_validation.parse_igc(flight)\n",
    "\n",
    "        for flight in logbook:\n",
    "            flight = igc_validation.crunch_flight(flight)\n",
    "\n",
    "        for flight in logbook:\n",
    "            flight['outputfilename'] = igc_validation.get_output_filename(flight['igcfile'])\n",
    "    except:\n",
    "        filename = \"flights_invalid/flight_{}.igc\".format(flight_number)\n",
    "        with open(filename, 'wb') as outfile:\n",
    "            outfile.write(res.content)"
   ]
  },
  {
   "cell_type": "markdown",
   "metadata": {},
   "source": [
    "This will take about 3 hours... I have about 200 of them."
   ]
  },
  {
   "cell_type": "code",
   "execution_count": 93,
   "metadata": {},
   "outputs": [
    {
     "name": "stdout",
     "output_type": "stream",
     "text": [
      "---------------------------------------------\n",
      "flights/flight_971.igc\n",
      "Flight date: 2015-04-11\n",
      "Header (not implemented): OPLTPILOT: Jan Voegeli\n",
      "Header (not implemented): OGTYGLIDERTYPE: R12\n",
      "Header (not implemented): OGIDGLIDERID:\n",
      "Header (not implemented): ODTM100GPSDATUM: WGS-84\n",
      "Header (not implemented): OCIDCOMPETITIONID:\n",
      "Header (not implemented): OCCLCOMPETITION CLASS:\n",
      "Header (not implemented): OSITSite:\n",
      "Record Type L not implemented: XGD GpsDumpMac version 0.30\n",
      "Record Type L not implemented: XGD Downloaded 2015-04-12  05:00:07\n",
      "Record Type G not implemented: 7DFCA5D8933B39FB\n",
      " #971 1 177.8 km    0% done....   4 seconds\n",
      "---------------------------------------------\n",
      "flights/flight_621.igc\n",
      "Flight date: 2013-08-16\n",
      "Header (not implemented): OPLTPILOT: Jan Voegeli\n",
      "Header (not implemented): OGTYGLIDERTYPE: Icepeak 6\n",
      "Header (not implemented): OGIDGLIDERID:\n",
      "Header (not implemented): ODTM100GPSDATUM: WGS-84\n",
      "Header (not implemented): OCIDCOMPETITIONID:\n",
      "Header (not implemented): OCCLCOMPETITION CLASS:\n",
      "Header (not implemented): OSITSite:\n",
      "Record Type L not implemented: XGD GpsDumpMac version 0.27\n",
      "Record Type L not implemented: XGD Downloaded 2013-08-17  05:50:52\n",
      "Record Type G not implemented: DC07D457EA378391\n",
      " #621 2 157.2 km    0% done....   8 seconds\n",
      "---------------------------------------------\n",
      "flights/flight_29.igc\n",
      "Flight date: 2009-08-27\n",
      "Header (not implemented): FFXA100\n",
      "Header (not implemented): FPLTPILOT:Jan Voegeli\n",
      "Header (not implemented): FGTYGLIDERTYPE:R09   }\n",
      "Header (not implemented): FGIDGLIDERID:     not set\n",
      "Header (not implemented): FDTM100GPSDATUM:WGS84\n",
      "Header (not implemented): FGPSGPS:FURUNO GH-80\n",
      "Header (not implemented): FRFWFIRMWAREVERSION:1.16\n",
      "Header (not implemented): FRHWHARDWAREVERSION:1.00\n",
      "Header (not implemented): FFTYFRTYPE:BRAUNIGER,COMPETINO\n",
      "Header (not implemented): PTZNUTCOFFSET:-6:00\n"
     ]
    },
    {
     "ename": "NameError",
     "evalue": "name 'xrange' is not defined",
     "output_type": "error",
     "traceback": [
      "\u001b[0;31m---------------------------------------------------------------------------\u001b[0m",
      "\u001b[0;31mNameError\u001b[0m                                 Traceback (most recent call last)",
      "\u001b[0;32m<ipython-input-93-697ef736d332>\u001b[0m in \u001b[0;36m<module>\u001b[0;34m\u001b[0m\n\u001b[1;32m      9\u001b[0m \u001b[0;34m\u001b[0m\u001b[0m\n\u001b[1;32m     10\u001b[0m     \u001b[0;31m#if not os.path.exists(\"flights/flight_{}.igc\".format(flight_number)):\u001b[0m\u001b[0;34m\u001b[0m\u001b[0;34m\u001b[0m\u001b[0m\n\u001b[0;32m---> 11\u001b[0;31m     \u001b[0mdownload_flight\u001b[0m\u001b[0;34m(\u001b[0m\u001b[0mflight_number\u001b[0m\u001b[0;34m)\u001b[0m\u001b[0;34m\u001b[0m\u001b[0m\n\u001b[0m\u001b[1;32m     12\u001b[0m     \u001b[0mprint\u001b[0m\u001b[0;34m(\u001b[0m\u001b[0;34m\" #{} {} {}    {}% done....   {} seconds\"\u001b[0m\u001b[0;34m.\u001b[0m\u001b[0mformat\u001b[0m\u001b[0;34m(\u001b[0m\u001b[0mflight_number\u001b[0m\u001b[0;34m,\u001b[0m \u001b[0mstr\u001b[0m\u001b[0;34m(\u001b[0m\u001b[0mrec\u001b[0m\u001b[0;34m[\u001b[0m\u001b[0;34m'index'\u001b[0m\u001b[0;34m]\u001b[0m\u001b[0;34m)\u001b[0m\u001b[0;34m,\u001b[0m \u001b[0mrec\u001b[0m\u001b[0;34m[\u001b[0m\u001b[0;34m'distance'\u001b[0m\u001b[0;34m]\u001b[0m\u001b[0;34m,\u001b[0m \u001b[0mround\u001b[0m\u001b[0;34m(\u001b[0m\u001b[0mi\u001b[0m\u001b[0;34m/\u001b[0m\u001b[0mlen\u001b[0m\u001b[0;34m(\u001b[0m\u001b[0mrecords\u001b[0m\u001b[0;34m)\u001b[0m\u001b[0;34m*\u001b[0m\u001b[0;36m100\u001b[0m\u001b[0;34m)\u001b[0m\u001b[0;34m,\u001b[0m \u001b[0mround\u001b[0m\u001b[0;34m(\u001b[0m\u001b[0mtime\u001b[0m\u001b[0;34m.\u001b[0m\u001b[0mtime\u001b[0m\u001b[0;34m(\u001b[0m\u001b[0;34m)\u001b[0m\u001b[0;34m-\u001b[0m\u001b[0mtic\u001b[0m\u001b[0;34m)\u001b[0m\u001b[0;34m)\u001b[0m\u001b[0;34m)\u001b[0m\u001b[0;34m\u001b[0m\u001b[0m\n\u001b[1;32m     13\u001b[0m \u001b[0;34m\u001b[0m\u001b[0m\n",
      "\u001b[0;32m<ipython-input-92-ae919e3b2e3b>\u001b[0m in \u001b[0;36mdownload_flight\u001b[0;34m(flight_number)\u001b[0m\n\u001b[1;32m     24\u001b[0m \u001b[0;34m\u001b[0m\u001b[0m\n\u001b[1;32m     25\u001b[0m     \u001b[0;32mfor\u001b[0m \u001b[0mflight\u001b[0m \u001b[0;32min\u001b[0m \u001b[0mlogbook\u001b[0m\u001b[0;34m:\u001b[0m\u001b[0;34m\u001b[0m\u001b[0m\n\u001b[0;32m---> 26\u001b[0;31m         \u001b[0mflight\u001b[0m \u001b[0;34m=\u001b[0m \u001b[0migc_validation\u001b[0m\u001b[0;34m.\u001b[0m\u001b[0mparse_igc\u001b[0m\u001b[0;34m(\u001b[0m\u001b[0mflight\u001b[0m\u001b[0;34m)\u001b[0m\u001b[0;34m\u001b[0m\u001b[0m\n\u001b[0m\u001b[1;32m     27\u001b[0m \u001b[0;34m\u001b[0m\u001b[0m\n\u001b[1;32m     28\u001b[0m     \u001b[0;32mfor\u001b[0m \u001b[0mflight\u001b[0m \u001b[0;32min\u001b[0m \u001b[0mlogbook\u001b[0m\u001b[0;34m:\u001b[0m\u001b[0;34m\u001b[0m\u001b[0m\n",
      "\u001b[0;32m~/github/leonardo/notebooks/igc_validation.py\u001b[0m in \u001b[0;36mparse_igc\u001b[0;34m(flight)\u001b[0m\n\u001b[1;32m     14\u001b[0m     \u001b[0mline\u001b[0m \u001b[0;34m=\u001b[0m \u001b[0mline\u001b[0m\u001b[0;34m.\u001b[0m\u001b[0mrstrip\u001b[0m\u001b[0;34m(\u001b[0m\u001b[0;34m)\u001b[0m\u001b[0;34m\u001b[0m\u001b[0m\n\u001b[1;32m     15\u001b[0m     \u001b[0mlinetype\u001b[0m \u001b[0;34m=\u001b[0m \u001b[0mline\u001b[0m\u001b[0;34m[\u001b[0m\u001b[0;36m0\u001b[0m\u001b[0;34m]\u001b[0m\u001b[0;34m\u001b[0m\u001b[0m\n\u001b[0;32m---> 16\u001b[0;31m     \u001b[0mrecordtypes\u001b[0m\u001b[0;34m[\u001b[0m\u001b[0mlinetype\u001b[0m\u001b[0;34m]\u001b[0m\u001b[0;34m(\u001b[0m\u001b[0mline\u001b[0m\u001b[0;34m,\u001b[0m \u001b[0mflight\u001b[0m\u001b[0;34m)\u001b[0m\u001b[0;34m\u001b[0m\u001b[0m\n\u001b[0m\u001b[1;32m     17\u001b[0m \u001b[0;34m\u001b[0m\u001b[0m\n\u001b[1;32m     18\u001b[0m   \u001b[0mfile\u001b[0m\u001b[0;34m.\u001b[0m\u001b[0mclose\u001b[0m\u001b[0;34m(\u001b[0m\u001b[0;34m)\u001b[0m\u001b[0;34m\u001b[0m\u001b[0m\n",
      "\u001b[0;32m~/github/leonardo/notebooks/igc_validation.py\u001b[0m in \u001b[0;36mlogline_I\u001b[0;34m(line, flight)\u001b[0m\n\u001b[1;32m    114\u001b[0m \u001b[0;32mdef\u001b[0m \u001b[0mlogline_I\u001b[0m\u001b[0;34m(\u001b[0m\u001b[0mline\u001b[0m\u001b[0;34m,\u001b[0m \u001b[0mflight\u001b[0m\u001b[0;34m)\u001b[0m\u001b[0;34m:\u001b[0m\u001b[0;34m\u001b[0m\u001b[0m\n\u001b[1;32m    115\u001b[0m   \u001b[0mnum\u001b[0m \u001b[0;34m=\u001b[0m \u001b[0mint\u001b[0m\u001b[0;34m(\u001b[0m\u001b[0mline\u001b[0m\u001b[0;34m[\u001b[0m\u001b[0;36m1\u001b[0m\u001b[0;34m:\u001b[0m\u001b[0;36m3\u001b[0m\u001b[0;34m]\u001b[0m\u001b[0;34m)\u001b[0m\u001b[0;34m\u001b[0m\u001b[0m\n\u001b[0;32m--> 116\u001b[0;31m   \u001b[0;32mfor\u001b[0m \u001b[0mi\u001b[0m \u001b[0;32min\u001b[0m \u001b[0mrange\u001b[0m\u001b[0;34m(\u001b[0m\u001b[0mnum\u001b[0m\u001b[0;34m)\u001b[0m\u001b[0;34m:\u001b[0m\u001b[0;34m\u001b[0m\u001b[0m\n\u001b[0m\u001b[1;32m    117\u001b[0m     \u001b[0mfield\u001b[0m \u001b[0;34m=\u001b[0m \u001b[0mline\u001b[0m\u001b[0;34m[\u001b[0m\u001b[0;36m3\u001b[0m\u001b[0;34m+\u001b[0m\u001b[0;36m7\u001b[0m\u001b[0;34m*\u001b[0m\u001b[0mi\u001b[0m\u001b[0;34m:\u001b[0m\u001b[0;36m10\u001b[0m\u001b[0;34m+\u001b[0m\u001b[0;36m7\u001b[0m\u001b[0;34m*\u001b[0m\u001b[0mi\u001b[0m\u001b[0;34m]\u001b[0m\u001b[0;34m\u001b[0m\u001b[0m\n\u001b[1;32m    118\u001b[0m     \u001b[0mflight\u001b[0m\u001b[0;34m[\u001b[0m\u001b[0;34m'optional_records'\u001b[0m\u001b[0;34m]\u001b[0m\u001b[0;34m[\u001b[0m\u001b[0mfield\u001b[0m\u001b[0;34m[\u001b[0m\u001b[0;36m4\u001b[0m\u001b[0;34m:\u001b[0m\u001b[0;36m7\u001b[0m\u001b[0;34m]\u001b[0m\u001b[0;34m]\u001b[0m \u001b[0;34m=\u001b[0m \u001b[0;34m(\u001b[0m\u001b[0mint\u001b[0m\u001b[0;34m(\u001b[0m\u001b[0mfield\u001b[0m\u001b[0;34m[\u001b[0m\u001b[0;36m0\u001b[0m\u001b[0;34m:\u001b[0m\u001b[0;36m2\u001b[0m\u001b[0;34m]\u001b[0m\u001b[0;34m)\u001b[0m\u001b[0;34m-\u001b[0m\u001b[0;36m1\u001b[0m\u001b[0;34m,\u001b[0m \u001b[0mint\u001b[0m\u001b[0;34m(\u001b[0m\u001b[0mfield\u001b[0m\u001b[0;34m[\u001b[0m\u001b[0;36m2\u001b[0m\u001b[0;34m:\u001b[0m\u001b[0;36m4\u001b[0m\u001b[0;34m]\u001b[0m\u001b[0;34m)\u001b[0m\u001b[0;34m)\u001b[0m\u001b[0;34m\u001b[0m\u001b[0m\n",
      "\u001b[0;31mNameError\u001b[0m: name 'xrange' is not defined"
     ]
    }
   ],
   "source": [
    "df = pd.read_csv(\"clean/rmhpa_flights.csv\")\n",
    "records = df.to_dict(orient='records')\n",
    "tic = time.time()\n",
    "\n",
    "for i, rec in enumerate(records):\n",
    "    url = rec['links']\n",
    "    flight_number = url.split('/')[-1]\n",
    "    \n",
    "    if not os.path.exists(\"flights/flight_{}.igc\".format(flight_number)): \n",
    "        print(\"---------------------------------------------\")\n",
    "        download_flight(flight_number)\n",
    "        print(\" #{} {} {}    {}% done....   {} seconds\".format(flight_number, str(rec['index']), rec['distance'], round(i/len(records)*100), round(time.time()-tic)))\n",
    "        time.sleep(1)\n"
   ]
  },
  {
   "cell_type": "code",
   "execution_count": null,
   "metadata": {},
   "outputs": [],
   "source": []
  }
 ],
 "metadata": {
  "kernelspec": {
   "display_name": "Python 3",
   "language": "python",
   "name": "python3"
  },
  "language_info": {
   "codemirror_mode": {
    "name": "ipython",
    "version": 3
   },
   "file_extension": ".py",
   "mimetype": "text/x-python",
   "name": "python",
   "nbconvert_exporter": "python",
   "pygments_lexer": "ipython3",
   "version": "3.6.6"
  }
 },
 "nbformat": 4,
 "nbformat_minor": 2
}
