{
 "cells": [
  {
   "cell_type": "code",
   "execution_count": 73,
   "metadata": {},
   "outputs": [],
   "source": [
    "import pandas as pd\n",
    "import lxml.html as lh\n",
    "import requests\n",
    "import time\n",
    "import os\n",
    "import igc_validation"
   ]
  },
  {
   "cell_type": "code",
   "execution_count": 82,
   "metadata": {},
   "outputs": [],
   "source": [
    "def download_flight(flight_number):\n",
    "    \n",
    "    filename = \"flights/flight_{}.igc\".format(flight_number)\n",
    "    headers = {'User-Agent': 'Mozilla/5.0'}\n",
    "\n",
    "    payload = {'type':'igc',\n",
    "               'flightID': str(flight_number),\n",
    "               'file': '',\n",
    "               'captchaStr': '',\n",
    "               'captcha': '',\n",
    "              }\n",
    "\n",
    "    session = requests.Session()\n",
    "    res = session.post('http://xc.rmhpa.org/download_igc.php', headers=headers, data=payload)\n",
    "\n",
    "    with open(filename, 'wb') as outfile:\n",
    "        outfile.write(res.content)\n",
    "     \n",
    "    \n",
    "    logbook = []\n",
    "    logbook.append({'igcfile': os.path.abspath(filename)})\n",
    "    \n",
    "    for flight in logbook:\n",
    "        flight = igc_validation.parse_igc(flight)\n",
    "    \n",
    "    for flight in logbook:\n",
    "        flight = igc_validation.crunch_flight(flight)\n",
    "    \n",
    "    for flight in logbook:\n",
    "        flight['outputfilename'] = igc_validation.get_output_filename(flight['igcfile'])\n",
    "        "
   ]
  },
  {
   "cell_type": "markdown",
   "metadata": {},
   "source": [
    "This will take about 3 hours... I have about 200 of them."
   ]
  },
  {
   "cell_type": "code",
   "execution_count": 85,
   "metadata": {},
   "outputs": [
    {
     "name": "stdout",
     "output_type": "stream",
     "text": [
      "Flight date: 2013-06-18\n",
      "Header (not implemented): OPLTPILOT: Benzie\n",
      "Header (not implemented): OGTYGLIDERTYPE: 3\n",
      "Header (not implemented): OGIDGLIDERID: None\n",
      "Header (not implemented): ODTM100GPSDATUM: WGS-84\n",
      "Header (not implemented): OCIDCOMPETITIONID:\n",
      "Header (not implemented): OCCLCOMPETITION CLASS: None\n",
      "Header (not implemented): OSITSite: None\n",
      "Record Type L not implemented: XGD GpsDump version 4.74\n",
      "Record Type L not implemented: XGD Downloaded 2013-06-22  00:54:54\n",
      "Record Type G not implemented: EC2B349363E8B59F\n",
      " #732 1284 0.2 km    0% done....   0 seconds\n",
      "---------------------------------------------\n"
     ]
    }
   ],
   "source": [
    "df = pd.read_csv(\"clean/rmhpa_flights.csv\")\n",
    "records = df.to_dict(orient='records')\n",
    "tic = time.time()\n",
    "\n",
    "for i, rec in enumerate(records):\n",
    "    url = rec['links']\n",
    "    flight_number = url.split('/')[-1]\n",
    "    \n",
    "    #if not os.path.exists(\"flights/flight_{}.igc\".format(flight_number)):    \n",
    "    download_flight(flight_number)\n",
    "    print(\" #{} {} {}    {}% done....   {} seconds\".format(flight_number, str(rec['index']), rec['distance'], round(i/len(records)*100), round(time.time()-tic)))\n",
    "    print(\"---------------------------------------------\")\n",
    "    time.sleep(1)\n",
    "        \n",
    "    if i == 50:\n",
    "        break"
   ]
  },
  {
   "cell_type": "code",
   "execution_count": null,
   "metadata": {},
   "outputs": [],
   "source": []
  }
 ],
 "metadata": {
  "kernelspec": {
   "display_name": "Python 3",
   "language": "python",
   "name": "python3"
  },
  "language_info": {
   "codemirror_mode": {
    "name": "ipython",
    "version": 3
   },
   "file_extension": ".py",
   "mimetype": "text/x-python",
   "name": "python",
   "nbconvert_exporter": "python",
   "pygments_lexer": "ipython3",
   "version": "3.6.6"
  }
 },
 "nbformat": 4,
 "nbformat_minor": 2
}
