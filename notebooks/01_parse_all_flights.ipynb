{
 "cells": [
  {
   "cell_type": "code",
   "execution_count": 115,
   "metadata": {},
   "outputs": [],
   "source": [
    "import requests\n",
    "import lxml.html as lh\n",
    "import json\n",
    "import time\n",
    "\n",
    "base_url = \"http://xc.rmhpa.org/tracks/world/alltimes/brand:all,cat:1,class:all,xctype:all,club:all,pilot:0_0,takeoff:all&sortOrder=FLIGHT_POINTS\"\n",
    "\n",
    "def process_url(page=None):\n",
    "    time.sleep(1)\n",
    "    url = base_url\n",
    "    if page is not None:\n",
    "        url = base_url + \"&page_num={}\".format(page)\n",
    "        \n",
    "    res = requests.get(url)\n",
    "\n",
    "    doc = lh.fromstring(res.content)\n",
    "    names = ['index', 'date', 'name location', 'duration', 'distance', 'xckm', 'xcscore', 'cat', 'wing', 'links']\n",
    "\n",
    "    data = []\n",
    "    for tbl in doc.xpath('//table'):\n",
    "        tr_elements = tbl.xpath('.//tr')\n",
    "        for td_element in tr_elements:\n",
    "            cols = td_element.xpath('.//td')\n",
    "            if len(cols)==10:\n",
    "                tmp = {}\n",
    "                for name, col in zip(names, cols):\n",
    "                    if name=='name location':\n",
    "                        n, l = col.text_content().strip().split(\"\\n\")\n",
    "                        tmp['name'] = n\n",
    "                        tmp['location'] = l\n",
    "                    elif name == 'wing':\n",
    "                        tmp['wing'] = col.xpath('.//img')[0].get('title')\n",
    "                    elif name == 'links':\n",
    "                        tmp['links'] = \"http://xc.rmhpa.org\" + col.xpath('.//a')[0].get('href')\n",
    "                    elif name == 'cat':\n",
    "                        pass\n",
    "                    else:\n",
    "                        tmp[name] = col.text_content().strip()\n",
    "                data.append(tmp)\n",
    "    \n",
    "    if page is None:\n",
    "        page = 0\n",
    "    \n",
    "    with open(\"raw/data_{}.json\".format(page), 'w') as outfile:\n",
    "        outfile.write(json.dumps(data, indent=4))"
   ]
  },
  {
   "cell_type": "code",
   "execution_count": 117,
   "metadata": {},
   "outputs": [],
   "source": [
    "for page in range(1, 27):\n",
    "    process_url(page)"
   ]
  },
  {
   "cell_type": "code",
   "execution_count": null,
   "metadata": {},
   "outputs": [],
   "source": []
  }
 ],
 "metadata": {
  "kernelspec": {
   "display_name": "Python 3",
   "language": "python",
   "name": "python3"
  },
  "language_info": {
   "codemirror_mode": {
    "name": "ipython",
    "version": 3
   },
   "file_extension": ".py",
   "mimetype": "text/x-python",
   "name": "python",
   "nbconvert_exporter": "python",
   "pygments_lexer": "ipython3",
   "version": "3.6.7"
  }
 },
 "nbformat": 4,
 "nbformat_minor": 2
}
